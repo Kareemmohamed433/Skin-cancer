{
 "cells": [
  {
   "cell_type": "code",
   "execution_count": null,
   "id": "7c46d723",
   "metadata": {},
   "outputs": [
    {
     "name": "stdout",
     "output_type": "stream",
     "text": [
      "🔄 Loading model and metrics...\n",
      "✅ Model loaded successfully.\n",
      "✅ Model and metrics loaded!\n",
      "📓 Detected Jupyter Notebook environment. Disabling Flask reloader.\n",
      " * Serving Flask app \"__main__\" (lazy loading)\n",
      " * Environment: development\n",
      " * Debug mode: on\n"
     ]
    },
    {
     "name": "stderr",
     "output_type": "stream",
     "text": [
      " * Running on all addresses.\n",
      "   WARNING: This is a development server. Do not use it in a production deployment.\n",
      " * Running on http://192.168.1.11:5001/ (Press CTRL+C to quit)\n",
      "192.168.1.11 - - [21/Jun/2025 17:51:13] \"GET / HTTP/1.1\" 200 -\n",
      "192.168.1.11 - - [21/Jun/2025 17:51:14] \"GET /favicon.ico HTTP/1.1\" 404 -\n"
     ]
    },
    {
     "name": "stdout",
     "output_type": "stream",
     "text": [
      "\u001b[1m1/1\u001b[0m \u001b[32m━━━━━━━━━━━━━━━━━━━━\u001b[0m\u001b[37m\u001b[0m \u001b[1m2s\u001b[0m 2s/step\n"
     ]
    },
    {
     "name": "stderr",
     "output_type": "stream",
     "text": [
      "192.168.1.11 - - [21/Jun/2025 17:51:32] \"POST /predict HTTP/1.1\" 200 -\n",
      "192.168.1.11 - - [21/Jun/2025 17:51:32] \"GET /uploads/ISIC_0029315.jpg HTTP/1.1\" 200 -\n"
     ]
    },
    {
     "name": "stdout",
     "output_type": "stream",
     "text": [
      "\u001b[1m1/1\u001b[0m \u001b[32m━━━━━━━━━━━━━━━━━━━━\u001b[0m\u001b[37m\u001b[0m \u001b[1m0s\u001b[0m 133ms/step\n"
     ]
    },
    {
     "name": "stderr",
     "output_type": "stream",
     "text": [
      "192.168.1.11 - - [21/Jun/2025 17:51:47] \"POST /predict HTTP/1.1\" 200 -\n",
      "192.168.1.11 - - [21/Jun/2025 17:51:47] \"GET /uploads/OIP.jpeg HTTP/1.1\" 200 -\n"
     ]
    }
   ],
   "source": [
    "import os\n",
    "import sys\n",
    "import json\n",
    "import numpy as np\n",
    "from flask import Flask, request, jsonify, render_template, send_file, send_from_directory\n",
    "from tensorflow.keras.models import load_model\n",
    "from tensorflow.keras.preprocessing import image\n",
    "from tensorflow.keras.applications.resnet50 import preprocess_input\n",
    "from werkzeug.utils import secure_filename\n",
    "\n",
    "# Initialize Flask app with custom templates folder\n",
    "app = Flask(__name__, template_folder=r'C:\\Users\\HP\\Desktop\\scan\\templates')\n",
    "\n",
    "# Configuration\n",
    "UPLOAD_FOLDER = 'uploads'\n",
    "ALLOWED_EXTENSIONS = {'png', 'jpg', 'jpeg'}\n",
    "MODEL_PATH = os.path.join('saved_models', 'resnet50_skin_cancer.keras')\n",
    "METRICS_PATH = os.path.join('saved_models', 'resnet50_metrics.json')\n",
    "CLASS_INDICES_PATH = os.path.join('saved_models', 'class_indices.json')\n",
    "app.config['UPLOAD_FOLDER'] = UPLOAD_FOLDER\n",
    "\n",
    "# Create uploads folder if not exists\n",
    "os.makedirs(UPLOAD_FOLDER, exist_ok=True)\n",
    "\n",
    "# Load model and metrics\n",
    "print(\"🔄 Loading model and metrics...\")\n",
    "try:\n",
    "    model = load_model(MODEL_PATH, compile=False)\n",
    "    print(\"✅ Model loaded successfully.\")\n",
    "except Exception as e:\n",
    "    print(f\"❌ Failed to load model: {e}\")\n",
    "    model = None\n",
    "\n",
    "def load_json_safely(path):\n",
    "    try:\n",
    "        with open(path, 'r') as f:\n",
    "            data = json.load(f)\n",
    "        return data\n",
    "    except Exception as e:\n",
    "        print(f\"❌ Failed to load {path}: {e}\")\n",
    "        return {}\n",
    "\n",
    "metrics = load_json_safely(METRICS_PATH)\n",
    "class_indices = load_json_safely(CLASS_INDICES_PATH)\n",
    "class_labels = {v: k for k, v in class_indices.items()}\n",
    "print(\"✅ Model and metrics loaded!\")\n",
    "\n",
    "def allowed_file(filename):\n",
    "    return '.' in filename and filename.rsplit('.', 1)[1].lower() in ALLOWED_EXTENSIONS\n",
    "\n",
    "@app.route('/')\n",
    "def home():\n",
    "    return render_template('index.html',\n",
    "                           accuracy=f\"{metrics.get('accuracy', 0)*100:.2f}%\",\n",
    "                           precision=f\"{metrics.get('precision', 0)*100:.2f}%\",\n",
    "                           recall=f\"{metrics.get('recall', 0)*100:.2f}%\",\n",
    "                           f1_score=f\"{metrics.get('f1_score', 0)*100:.2f}%\")\n",
    "\n",
    "@app.route('/predict', methods=['POST'])\n",
    "def predict():\n",
    "    if model is None:\n",
    "        return jsonify({'error': 'Model not loaded'})\n",
    "\n",
    "    if 'file' not in request.files:\n",
    "        return jsonify({'error': 'No file part'})\n",
    "    file = request.files['file']\n",
    "    if file.filename == '':\n",
    "        return jsonify({'error': 'No selected file'})\n",
    "    if not allowed_file(file.filename):\n",
    "        return jsonify({'error': 'File type not allowed'})\n",
    "\n",
    "    filename = secure_filename(file.filename)\n",
    "    filepath = os.path.join(app.config['UPLOAD_FOLDER'], filename)\n",
    "    file.save(filepath)\n",
    "\n",
    "    try:\n",
    "        img = image.load_img(filepath, target_size=(224, 224))\n",
    "        img_array = image.img_to_array(img)\n",
    "        img_array = np.expand_dims(img_array, axis=0)\n",
    "        img_array = preprocess_input(img_array)\n",
    "\n",
    "        prediction = model.predict(img_array)\n",
    "        predicted_class = class_labels[int(prediction[0][0] > 0.5)]\n",
    "        confidence = float(prediction[0][0] if predicted_class == 'malignant' else 1 - prediction[0][0])\n",
    "\n",
    "        return jsonify({\n",
    "            'prediction': predicted_class,\n",
    "            'confidence': f\"{confidence*100:.2f}%\",\n",
    "            'image_url': f\"/uploads/{filename}\"\n",
    "        })\n",
    "    except Exception as e:\n",
    "        return jsonify({'error': str(e)})\n",
    "    finally:\n",
    "        # Keep the file temporarily for display (optional: remove after serving)\n",
    "        pass\n",
    "\n",
    "@app.route('/uploads/<filename>')\n",
    "def uploaded_file(filename):\n",
    "    return send_from_directory(app.config['UPLOAD_FOLDER'], filename)\n",
    "\n",
    "@app.route('/metrics')\n",
    "def get_metrics():\n",
    "    return jsonify(metrics)\n",
    "\n",
    "@app.route('/download-model')\n",
    "def download_model():\n",
    "    keras_model_path = os.path.join('saved_models', 'resnet50_skin_cancer.keras')\n",
    "    if os.path.exists(keras_model_path):\n",
    "        return send_file(keras_model_path, as_attachment=True)\n",
    "    else:\n",
    "        return jsonify({'error': 'Model file not found'})\n",
    "\n",
    "if __name__ == '__main__':\n",
    "    # Check if running in Jupyter Notebook\n",
    "    is_jupyter = 'ipykernel' in sys.modules\n",
    "    try:\n",
    "        # Disable reloader in Jupyter to avoid SystemExit\n",
    "        if is_jupyter:\n",
    "            print(\"📓 Detected Jupyter Notebook environment. Disabling Flask reloader.\")\n",
    "            os.environ['FLASK_ENV'] = 'development'  # Ensure development mode\n",
    "            app.run(debug=True, host='0.0.0.0', port=5001, use_reloader=False)\n",
    "        else:\n",
    "            print(\"🖥️ Running in standard Python environment.\")\n",
    "            app.run(debug=True, host='0.0.0.0', port=5001)\n",
    "    except Exception as e:\n",
    "        print(f\"⚠️ Error starting Flask server: {e}\")\n",
    "        sys.exit(1)"
   ]
  },
  {
   "cell_type": "code",
   "execution_count": null,
   "id": "5cdf46ec",
   "metadata": {},
   "outputs": [],
   "source": []
  }
 ],
 "metadata": {
  "kernelspec": {
   "display_name": "Python 3 (ipykernel)",
   "language": "python",
   "name": "python3"
  },
  "language_info": {
   "codemirror_mode": {
    "name": "ipython",
    "version": 3
   },
   "file_extension": ".py",
   "mimetype": "text/x-python",
   "name": "python",
   "nbconvert_exporter": "python",
   "pygments_lexer": "ipython3",
   "version": "3.9.13"
  }
 },
 "nbformat": 4,
 "nbformat_minor": 5
}
